{
 "cells": [
  {
   "cell_type": "markdown",
   "metadata": {},
   "source": [
    "#                                  # Learning Activations in Neural Networks "
   ]
  },
  {
   "cell_type": "markdown",
   "metadata": {},
   "source": [
    "# importing all the necessary libraries"
   ]
  },
  {
   "cell_type": "code",
   "execution_count": 86,
   "metadata": {
    "id": "2341df87"
   },
   "outputs": [],
   "source": [
    "from sklearn.datasets import fetch_openml\n",
    "from keras.utils.np_utils import to_categorical\n",
    "import numpy as np\n",
    "import pandas\n",
    "from sklearn.model_selection import train_test_split\n",
    "import time\n",
    "import warnings\n",
    "warnings.filterwarnings('ignore')"
   ]
  },
  {
   "cell_type": "markdown",
   "metadata": {},
   "source": [
    "# loading the dataset"
   ]
  },
  {
   "cell_type": "code",
   "execution_count": 87,
   "metadata": {
    "id": "YkoGzUe2ABzm"
   },
   "outputs": [],
   "source": [
    "x, y = fetch_openml('mnist_784', version=1, return_X_y=True)\n",
    "x = (x/255).astype('float32')\n",
    "y = to_categorical(y)"
   ]
  },
  {
   "cell_type": "markdown",
   "metadata": {},
   "source": [
    "# splitting the dataset into train & test samples."
   ]
  },
  {
   "cell_type": "code",
   "execution_count": 88,
   "metadata": {
    "id": "K1r0F23MAO37"
   },
   "outputs": [],
   "source": [
    "train_x, test_x, train_y, test_y = train_test_split(x, y, test_size=0.25, random_state=42)"
   ]
  },
  {
   "cell_type": "markdown",
   "metadata": {},
   "source": [
    "# Building a complete neural network architecture"
   ]
  },
  {
   "cell_type": "code",
   "execution_count": 140,
   "metadata": {
    "id": "b8ab2320"
   },
   "outputs": [],
   "source": [
    "class NeuralNetwork():\n",
    "    def __init__(self, network, epochs, learning_rate=0.01):\n",
    "        self.network = network\n",
    "        self.epochs = epochs\n",
    "        self.learning_rate = learning_rate\n",
    "\n",
    "        # Initializing all the parameters in a single dictionary \n",
    "        self.params = self.initialization()\n",
    "\n",
    "    \n",
    "    def initialization(self):\n",
    "\n",
    "\n",
    "        # Initializing weights at every layer. if nodes at a particular Layer L0 are m, then we have m random weights initialized using HE Initialization.\n",
    "        input_layer=self.network[0] #fetching no. of neuron for input layer\n",
    "        hidden_layer1=self.network[1]  #fetching no. of neuron for hidden layer1\n",
    "        hidden_layer2=self.network[2] #fetching no. of neuron for hidden layer2\n",
    "        output_layer=self.network[3]  #fetching no. of neuron for output layer\n",
    "\n",
    "        params = {\n",
    "            'W1':np.random.randn(hidden_layer1, input_layer) * np.sqrt(2. / hidden_layer1),\n",
    "            'W2':np.random.randn(hidden_layer2, hidden_layer1) * np.sqrt(2. / hidden_layer2),\n",
    "            'W3':np.random.randn(output_layer, hidden_layer2) * np.sqrt(2. / output_layer)\n",
    "        }\n",
    "\n",
    "        return params\n",
    "\n",
    "    def forward_propagation(self, train_x):\n",
    "        params = self.params\n",
    "\n",
    "        # feeding A0 as direct input to first layer.\n",
    "        params['A0'] = train_x\n",
    "\n",
    "        # weight by input multiplication between input layer and hidden layer 1\n",
    "        params['Z1'] = np.dot(params[\"W1\"], params['A0'])\n",
    "        params['A1'] = self.sigmoid(params['Z1'])\n",
    "\n",
    "        # weight by input multiplication between hidden layer1 and hidden layer2\n",
    "        params['Z2'] = np.dot(params[\"W2\"], params['A1'])\n",
    "        params['A2'] = self.sigmoid(params['Z2'])\n",
    "\n",
    "        # weight by input multiplication between hidden layer2 and output layer\n",
    "        params['Z3'] = np.dot(params[\"W3\"], params['A2'])\n",
    "        params['A3'] = self.softmax(params['Z3'])\n",
    "\n",
    "        return params['A3']\n",
    "\n",
    "    def backward_propagation(self, train_y, output):\n",
    "        \n",
    "        # minimizing loss during back propagation by updating the weight parameters\n",
    "        params = self.params\n",
    "        changes_to_w = {}\n",
    "\n",
    "        # updating new value for weight w3\n",
    "        loss = 2 * (output - train_y) / output.shape[0] * self.softmax(params['Z3'], derivative=True)\n",
    "        changes_to_w['W3'] = np.outer(loss, params['A2'])\n",
    "\n",
    "        # updating new value for weight w2\n",
    "        loss = np.dot(params['W3'].T, loss) * self.sigmoid(params['Z2'], derivative=True)\n",
    "        changes_to_w['W2'] = np.outer(loss, params['A1'])\n",
    "\n",
    "        # updating new value for weight w1\n",
    "        loss = np.dot(params['W2'].T, loss) * self.sigmoid(params['Z1'], derivative=True)\n",
    "        changes_to_w['W1'] = np.outer(loss, params['A0'])\n",
    "\n",
    "        return changes_to_w\n",
    "\n",
    "\n",
    "    def sigmoid(self, x, derivative=False):\n",
    "\n",
    "        #calculation of sigmoid activation function with & without derivatives.\n",
    "        if derivative:\n",
    "            return (np.exp(-x))/((np.exp(-x)+1)**2)\n",
    "        return 1/(1 + np.exp(-x))\n",
    "\n",
    "    def softmax(self, x, derivative=False):\n",
    "\n",
    "        #\n",
    "        exponential = np.exp(x - x.max())\n",
    "        if derivative:\n",
    "            return exponential / np.sum(exponential, axis=0) * (1 - exponential / np.sum(exponential, axis=0))\n",
    "        return exponential / np.sum(exponential, axis=0)\n",
    "\n",
    "    def update_network_parameters(self, changes_to_w):\n",
    "        \n",
    "        for key, value in changes_to_w.items():\n",
    "            #print(\" \",self.params[key],value)\n",
    "            self.params[key] -= self.learning_rate * value\n",
    "\n",
    "    def compute_accuracy(self, test_x, test_y):\n",
    "       \n",
    "        predictions = []\n",
    "\n",
    "        for x, y in zip(test_x, test_y):\n",
    "            output = self.forward_propagation(x)\n",
    "            pred = np.argmax(output)\n",
    "            predictions.append(pred == np.argmax(y))\n",
    "        \n",
    "        return np.mean(predictions)\n",
    "\n",
    "    def trainNetwork(self, train_x, train_y, test_x, test_y):\n",
    "        training_started_at = time.time()\n",
    "        for iteration in range(self.epochs):\n",
    "            epoch_time = time.time()\n",
    "            for x,y in zip(x_train, y_train):\n",
    "                output = self.forward_propagation(x)\n",
    "                changes_to_w = self.backward_propagation(y, output)\n",
    "                self.update_network_parameters(changes_to_w)\n",
    "\n",
    "        \n",
    "            \n",
    "            accuracy = self.compute_accuracy(x_val, y_val)\n",
    "            print('Epoch: {0}, Time Taken: {1:.2f}s, Accuracy: {2:.3f}%'.format(\n",
    "                iteration+1, time.time() - epoch_time, accuracy * 100\n",
    "            ))\n",
    "        print('Total Time Taken to Train the Network for {0} Epochs: {1:.2f}s '.format(self.epochs,time.time()- training_started_at))"
   ]
  },
  {
   "cell_type": "markdown",
   "metadata": {},
   "source": [
    "# Calling the network"
   ]
  },
  {
   "cell_type": "code",
   "execution_count": 141,
   "metadata": {
    "colab": {
     "base_uri": "https://localhost:8080/"
    },
    "id": "Jr3W75dHkBth",
    "outputId": "a414cbfe-9ebe-463d-ff29-81d9e2d4294b"
   },
   "outputs": [
    {
     "name": "stdout",
     "output_type": "stream",
     "text": [
      "Epoch: 1, Time Taken: 99.46s, Accuracy: 78.238%\n",
      "Epoch: 2, Time Taken: 98.52s, Accuracy: 80.467%\n",
      "Epoch: 3, Time Taken: 98.57s, Accuracy: 81.686%\n",
      "Epoch: 4, Time Taken: 98.84s, Accuracy: 82.295%\n",
      "Epoch: 5, Time Taken: 98.84s, Accuracy: 88.133%\n",
      "Epoch: 6, Time Taken: 98.53s, Accuracy: 89.143%\n",
      "Epoch: 7, Time Taken: 99.15s, Accuracy: 89.695%\n",
      "Epoch: 8, Time Taken: 99.56s, Accuracy: 90.133%\n",
      "Epoch: 9, Time Taken: 99.16s, Accuracy: 90.486%\n",
      "Epoch: 10, Time Taken: 98.41s, Accuracy: 90.733%\n",
      "Total Time Taken to Train the Network for 10 Epochs: 989.04s \n"
     ]
    }
   ],
   "source": [
    "NN = NeuralNetwork(network=[784, 256, 128, 10],epochs=10)\n",
    "NN.trainNetwork(train_x, train_y, test_x, test_y)"
   ]
  },
  {
   "cell_type": "code",
   "execution_count": 142,
   "metadata": {
    "colab": {
     "base_uri": "https://localhost:8080/"
    },
    "id": "zI8U2D72EPh3",
    "outputId": "7779f592-6cbd-4086-bdb0-e25431f9bd3f"
   },
   "outputs": [
    {
     "name": "stdout",
     "output_type": "stream",
     "text": [
      "{'loss': [1.5642837285995483, 0.8272741436958313, 0.6061676740646362, 0.5097596049308777, 0.45552995800971985], 'accuracy': [0.6732666492462158, 0.8304888606071472, 0.8590888977050781, 0.874155580997467, 0.8824666738510132], 'val_loss': [1.0205998420715332, 0.6555695533752441, 0.5242910981178284, 0.45775771141052246, 0.4179065525531769], 'val_accuracy': [0.8164666891098022, 0.8576666712760925, 0.8768666386604309, 0.8846666812896729, 0.8912000060081482]}\n"
     ]
    }
   ],
   "source": [
    "print(hist.history)"
   ]
  },
  {
   "cell_type": "code",
   "execution_count": 143,
   "metadata": {
    "id": "QlVWUEHzmDGf"
   },
   "outputs": [],
   "source": [
    "import matplotlib.pyplot as plt\n",
    "import seaborn as sb"
   ]
  },
  {
   "cell_type": "markdown",
   "metadata": {},
   "source": [
    "# Train Vs. test Accuracy"
   ]
  },
  {
   "cell_type": "code",
   "execution_count": 144,
   "metadata": {
    "colab": {
     "base_uri": "https://localhost:8080/",
     "height": 295
    },
    "id": "xjbux6BVmAmT",
    "outputId": "46caf7dd-11d2-4310-f399-223f63588652"
   },
   "outputs": [
    {
     "data": {
      "image/png": "[encoded data removed]",
      "text/plain": [
       "<Figure size 432x288 with 1 Axes>"
      ]
     },
     "metadata": {
      "needs_background": "light",
      "tags": []
     },
     "output_type": "display_data"
    }
   ],
   "source": [
    "plt.plot(hist.history['accuracy'])\n",
    "plt.plot(hist.history['val_accuracy'])\n",
    "plt.title('Network accuracy')\n",
    "plt.ylabel('accuracy')\n",
    "plt.xlabel('epochs')\n",
    "plt.legend(['training','Testing'], loc='best')\n",
    "plt.show()"
   ]
  },
  {
   "cell_type": "markdown",
   "metadata": {},
   "source": [
    "# Train Vs. test Error/Loss"
   ]
  },
  {
   "cell_type": "code",
   "execution_count": 145,
   "metadata": {
    "colab": {
     "base_uri": "https://localhost:8080/",
     "height": 295
    },
    "id": "tlTX-spwHVAF",
    "outputId": "5e551414-06b3-481e-9158-91be5d2d0116"
   },
   "outputs": [
    {
     "data": {
      "image/png": "[encoded data removed]",
      "text/plain": [
       "<Figure size 432x288 with 1 Axes>"
      ]
     },
     "metadata": {
      "needs_background": "light",
      "tags": []
     },
     "output_type": "display_data"
    }
   ],
   "source": [
    "plt.plot(hist.history['loss'])\n",
    "plt.plot(hist.history['val_loss'])\n",
    "plt.title('Network loss')\n",
    "plt.ylabel('Loss')\n",
    "plt.xlabel('Epochs')\n",
    "plt.legend(['Train', 'test'], loc='best')\n",
    "plt.show()"
   ]
  },
  {
   "cell_type": "code",
   "execution_count": 146,
   "metadata": {
    "id": "Ef0n0CJXmRNa"
   },
   "outputs": [],
   "source": [
    "from sklearn import metrics\n",
    "from sklearn.metrics import precision_score,recall_score, confusion_matrix, classification_report,accuracy_score, f1_score"
   ]
  },
  {
   "cell_type": "markdown",
   "metadata": {},
   "source": [
    "# Model F1 Score Value"
   ]
  },
  {
   "cell_type": "code",
   "execution_count": 147,
   "metadata": {
    "colab": {
     "base_uri": "https://localhost:8080/"
    },
    "id": "xT7z7xt_mRZ6",
    "outputId": "fd4715b7-e58a-4442-9abc-ab1300bc60f1"
   },
   "outputs": [
    {
     "name": "stdout",
     "output_type": "stream",
     "text": [
      "F1 Score for the network is : 0.8879428571428571\n"
     ]
    }
   ],
   "source": [
    "prediction = model.predict(train_x)\n",
    "\n",
    "final_pred = np.argmax(prediction, axis=1)\n",
    "test_y_final = np.argmax(train_y, axis=1)\n",
    "\n",
    "print(\"F1 Score for the network is :\",f1_score(test_y_final, final_pred, average='micro'))"
   ]
  },
  {
   "cell_type": "code",
   "execution_count": 148,
   "metadata": {
    "id": "-LAxAX4PmRbR"
   },
   "outputs": [],
   "source": [
    "cm = confusion_matrix(test_y_final, final_pred)"
   ]
  },
  {
   "cell_type": "markdown",
   "metadata": {},
   "source": [
    "# Network's Confusion Matrix"
   ]
  },
  {
   "cell_type": "code",
   "execution_count": 150,
   "metadata": {
    "colab": {
     "base_uri": "https://localhost:8080/",
     "height": 609
    },
    "id": "uBPOeISimRhO",
    "outputId": "831859b6-c53b-41b5-ed98-28b71e60c4c0"
   },
   "outputs": [
    {
     "data": {
      "text/plain": [
       "<matplotlib.axes._subplots.AxesSubplot at 0x7f586e02fd90>"
      ]
     },
     "execution_count": 150,
     "metadata": {
      "tags": []
     },
     "output_type": "execute_result"
    },
    {
     "data": {
      "image/png": "[encoded data removed]",
      "text/plain": [
       "<Figure size 1440x720 with 2 Axes>"
      ]
     },
     "metadata": {
      "needs_background": "light",
      "tags": []
     },
     "output_type": "display_data"
    }
   ],
   "source": [
    "plt.figure(figsize = (20,10))\n",
    "sb.heatmap(cm,cmap= \"Blues\", linecolor = 'black' , linewidth = 1 , annot = True, fmt='')"
   ]
  },
  {
   "cell_type": "markdown",
   "metadata": {},
   "source": [
    "# Final classification report"
   ]
  },
  {
   "cell_type": "code",
   "execution_count": 151,
   "metadata": {
    "colab": {
     "base_uri": "https://localhost:8080/"
    },
    "id": "eOtLhoaJmRif",
    "outputId": "ce1c708d-f40f-4f84-aac2-df01272c2e2d"
   },
   "outputs": [
    {
     "name": "stdout",
     "output_type": "stream",
     "text": [
      "              precision    recall  f1-score   support\n",
      "\n",
      "           0       0.93      0.96      0.94      5189\n",
      "           1       0.91      0.97      0.94      5900\n",
      "           2       0.88      0.85      0.87      5229\n",
      "           3       0.88      0.86      0.87      5335\n",
      "           4       0.88      0.91      0.89      5237\n",
      "           5       0.85      0.81      0.83      4706\n",
      "           6       0.91      0.93      0.92      5115\n",
      "           7       0.91      0.89      0.90      5415\n",
      "           8       0.88      0.83      0.85      5168\n",
      "           9       0.85      0.85      0.85      5206\n",
      "\n",
      "    accuracy                           0.89     52500\n",
      "   macro avg       0.89      0.89      0.89     52500\n",
      "weighted avg       0.89      0.89      0.89     52500\n",
      "\n"
     ]
    }
   ],
   "source": [
    "print(metrics.classification_report(test_y_final, final_pred))"
   ]
  }
 ],
 "metadata": {
  "colab": {
   "collapsed_sections": [],
   "name": "happyMonk.ipynb",
   "provenance": []
  },
  "kernelspec": {
   "display_name": "Python 3",
   "language": "python",
   "name": "python3"
  },
  "language_info": {
   "codemirror_mode": {
    "name": "ipython",
    "version": 3
   },
   "file_extension": ".py",
   "mimetype": "text/x-python",
   "name": "python",
   "nbconvert_exporter": "python",
   "pygments_lexer": "ipython3",
   "version": "3.8.5"
  }
 },
 "nbformat": 4,
 "nbformat_minor": 5
}
